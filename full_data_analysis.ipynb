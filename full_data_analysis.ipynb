{
 "cells": [
  {
   "cell_type": "code",
   "execution_count": null,
   "metadata": {},
   "outputs": [],
   "source": [
    "import pandas as pd"
   ]
  },
  {
   "cell_type": "code",
   "execution_count": null,
   "metadata": {},
   "outputs": [],
   "source": [
    "births = pd.read_csv(\"~/Downloads/ETLSINASC/ETLSINASC.DNRES_TO_2010_t.csv\")"
   ]
  },
  {
   "cell_type": "code",
   "execution_count": null,
   "metadata": {},
   "outputs": [],
   "source": [
    "import os\n",
    "\n",
    "directory = os.path.expanduser(\"~/Downloads/ETLSINASC\")\n",
    "files_2010 = []\n",
    "\n",
    "if os.path.exists(directory):\n",
    "    files = os.listdir(directory)\n",
    "    for file in files:\n",
    "        if \"2010\" in file:\n",
    "            files_2010.append(file)\n",
    "else:\n",
    "    print(\"The specified directory does not exist.\")\n"
   ]
  },
  {
   "cell_type": "code",
   "execution_count": null,
   "metadata": {},
   "outputs": [],
   "source": [
    "cols = ['def_gravidez', 'def_gestacao', 'nasc_LATITUDE', 'nasc_LONGITUDE', \"nasc_MUNNOMEX\", \"res_NOME_UF\"]"
   ]
  },
  {
   "cell_type": "code",
   "execution_count": null,
   "metadata": {},
   "outputs": [],
   "source": [
    "file[-13:-11]"
   ]
  },
  {
   "cell_type": "code",
   "execution_count": null,
   "metadata": {},
   "outputs": [],
   "source": [
    "first = True\n",
    "frac = 0.1\n",
    "for file in files_2010:\n",
    "    if first:\n",
    "        first = False\n",
    "        births = pd.read_csv(f\"~/Downloads/ETLSINASC/{file}\")[cols]#.sample(frac=frac)\n",
    "        births[\"estado\"] = file[-13:-11]\n",
    "    else:\n",
    "        births_file = pd.read_csv(f\"~/Downloads/ETLSINASC/{file}\")[cols]#.sample(frac=frac)\n",
    "        births_file[\"estado\"] = file[-13:-11]\n",
    "        births = pd.concat(\n",
    "            [\n",
    "                births, \n",
    "                births_file\n",
    "            ], \n",
    "            ignore_index=True\n",
    "        )"
   ]
  },
  {
   "cell_type": "code",
   "execution_count": null,
   "metadata": {},
   "outputs": [],
   "source": [
    "prematuros = [\"Menos de 22 semanas\", \"32 a 36 semanas\", \"28 a 31 semanas\", \"22 a 27 semanas\"]\n",
    "births['prematuro'] = births['def_gestacao'].isin(prematuros).astype(\"int\")"
   ]
  },
  {
   "cell_type": "code",
   "execution_count": null,
   "metadata": {},
   "outputs": [],
   "source": [
    "births.groupby(\"def_gestacao\").count()[\"def_gravidez\"]"
   ]
  },
  {
   "cell_type": "code",
   "execution_count": null,
   "metadata": {},
   "outputs": [],
   "source": [
    "births = births.drop([\"def_gestacao\"], axis=1)"
   ]
  },
  {
   "cell_type": "code",
   "execution_count": null,
   "metadata": {},
   "outputs": [],
   "source": [
    "from sklearn.model_selection import train_test_split\n",
    "X = births.drop(['prematuro'], axis=1)\n",
    "y = births['prematuro']\n",
    "X_train, X_test, y_train, y_test = train_test_split(X, y, test_size=0.2, random_state=42)"
   ]
  },
  {
   "cell_type": "code",
   "execution_count": null,
   "metadata": {},
   "outputs": [],
   "source": [
    "X_train[\"prematuro\"] = y_train\n",
    "X_test[\"prematuro\"] = y_test"
   ]
  },
  {
   "cell_type": "code",
   "execution_count": null,
   "metadata": {},
   "outputs": [],
   "source": [
    "births[\"def_gravidez\"] = (births[\"def_gravidez\"] != \"Única\").astype(\"int\")\n"
   ]
  },
  {
   "cell_type": "code",
   "execution_count": null,
   "metadata": {},
   "outputs": [],
   "source": [
    "births.corr()"
   ]
  },
  {
   "cell_type": "code",
   "execution_count": null,
   "metadata": {},
   "outputs": [],
   "source": [
    "import plotly.graph_objs as go\n",
    "\n",
    "# group the data by nasc_LATITUDE and nasc_LONGITUDE, and calculate the mean of prematuro for each group\n",
    "grouped_data = births.groupby(['res_NOME_UF']).mean().reset_index()[[\"prematuro\", \"nasc_LATITUDE\", \"nasc_LONGITUDE\", 'res_NOME_UF']]\n",
    "grouped_data[\"prematuro\"] = grouped_data[\"prematuro\"].clip(upper=0.2)\n",
    "\n",
    "\n",
    "# create a Scattergeo trace with the mean values\n",
    "data = go.Scattergeo(\n",
    "    lon = grouped_data['nasc_LONGITUDE'],\n",
    "    lat = grouped_data['nasc_LATITUDE'],\n",
    "    mode = 'markers',\n",
    "    marker = dict(\n",
    "        size = 8,\n",
    "        opacity = 0.8,\n",
    "        color = grouped_data['prematuro'],\n",
    "        colorscale = 'RdBu_r',  # choose a colorscale\n",
    "        colorbar = dict(title = 'Prematuro')\n",
    "    )\n",
    ")\n",
    "\n",
    "layout = go.Layout(\n",
    "    title = go.layout.Title(text='Premature births by city in Brazil'),\n",
    "    geo = go.layout.Geo(\n",
    "        scope = 'south america',  # set the map scope to South America\n",
    "        projection_type = 'equirectangular',\n",
    "        showland = True,\n",
    "        landcolor = 'rgb(217, 217, 217)',\n",
    "        countrycolor = 'rgb(204, 204, 204)'\n",
    "    )\n",
    ")\n",
    "\n",
    "fig = go.Figure(data=data, layout=layout)\n",
    "fig.show()"
   ]
  },
  {
   "cell_type": "code",
   "execution_count": null,
   "metadata": {},
   "outputs": [],
   "source": [
    "births = births.drop([\"nasc_LATITUDE\", \"nasc_LONGITUDE\", \"nasc_MUNNOMEX\", \"res_NOME_UF\"], axis=1)"
   ]
  },
  {
   "cell_type": "code",
   "execution_count": null,
   "metadata": {},
   "outputs": [],
   "source": [
    "from sklearn.compose import ColumnTransformer\n",
    "from sklearn.pipeline import Pipeline\n",
    "from sklearn.linear_model import LogisticRegression\n",
    "from sklearn.preprocessing import OneHotEncoder\n",
    "\n",
    "preprocessor = ColumnTransformer(\n",
    "    transformers=[\n",
    "        ('estado', OneHotEncoder(), ['estado']),\n",
    "    ],\n",
    "    remainder='passthrough'\n",
    ")\n",
    "\n",
    "# Create the pipeline\n",
    "pipeline = Pipeline(steps=[\n",
    "    ('preprocessor', preprocessor),\n",
    "    ('classifier', LogisticRegression(max_iter=2000))\n",
    "])\n",
    "\n",
    "# Split the dataset into training and testing sets\n",
    "X = births.drop(['prematuro'], axis=1)\n",
    "y = births['prematuro']\n",
    "X_train, X_test, y_train, y_test = train_test_split(X, y, test_size=0.2, random_state=42)\n",
    "\n",
    "# Fit the pipeline to the training data\n",
    "pipeline.fit(X_train, y_train)\n",
    "\n",
    "# Evaluate the pipeline on the testing data\n",
    "score = pipeline.score(X_test, y_test)\n",
    "print(f'Test accuracy: {score:.4f}')"
   ]
  },
  {
   "cell_type": "code",
   "execution_count": null,
   "metadata": {},
   "outputs": [],
   "source": [
    "1 - y_train.mean()"
   ]
  },
  {
   "cell_type": "code",
   "execution_count": null,
   "metadata": {},
   "outputs": [],
   "source": [
    "probs = pipeline.predict_proba(X_test)[:, 1]"
   ]
  },
  {
   "cell_type": "code",
   "execution_count": null,
   "metadata": {},
   "outputs": [],
   "source": [
    "import plotly.graph_objs as go\n",
    "from plotly.subplots import make_subplots\n",
    "\n",
    "# Create a histogram using Plotly\n",
    "fig = go.Figure(data=[go.Histogram(x=probs, nbinsx=20)])\n",
    "\n",
    "# Customize the layout\n",
    "fig.update_layout(title='Frequency of Each Value by Bin',\n",
    "                  xaxis_title='Value',\n",
    "                  yaxis_title='Frequency')\n",
    "\n",
    "# Show the plot\n",
    "fig.show()"
   ]
  },
  {
   "cell_type": "code",
   "execution_count": null,
   "metadata": {},
   "outputs": [],
   "source": [
    "fig = go.Figure()\n",
    "\n",
    "fig.add_trace(go.Histogram(\n",
    "    x=probs,\n",
    "    y=y_test,\n",
    "    histfunc='avg',\n",
    "    nbinsx=20,\n",
    "    name='Frequency'\n",
    "))\n",
    "\n",
    "fig.update_layout(\n",
    "    title='Frequency of Each Value by Bin',\n",
    "    xaxis_title='Data',\n",
    "    yaxis_title='Prematuro',\n",
    "    bargap=0.2,\n",
    "    bargroupgap=0.1\n",
    ")\n",
    "\n",
    "fig.show()"
   ]
  },
  {
   "cell_type": "code",
   "execution_count": null,
   "metadata": {},
   "outputs": [],
   "source": [
    "# Quando o modelo diz que a prob é maior que 30%, quais são os fatores decisivos?"
   ]
  },
  {
   "cell_type": "code",
   "execution_count": null,
   "metadata": {},
   "outputs": [],
   "source": [
    "import numpy as np\n",
    "\n",
    "# Find the indexes of the elements above 0.30\n",
    "indexes_above_30 = np.where(probs > 0.30)\n",
    "\n",
    "# Select the corresponding rows from the DataFrame\n",
    "risk_moms = X_test.iloc[indexes_above_30]"
   ]
  },
  {
   "cell_type": "code",
   "execution_count": null,
   "metadata": {},
   "outputs": [],
   "source": [
    "risk_moms.groupby(\"def_gravidez\").count()\n",
    "# Sempre que a mae nao tem gravidez unica, a chance de ser prematura é maior que 30%.\n",
    "# Sempre que a gravidez é única, a chance é menor que 30%.\n",
    "# Essa é a única feature que faz o modelo tomar decisão. Feature de pressão/tabaco da região são boas, mas não o suficiente\n",
    "# Precisaríamos dessas features para a mãe.\n",
    "# Qual o protocolo seguir? Quê acoes tomar?"
   ]
  },
  {
   "cell_type": "code",
   "execution_count": null,
   "metadata": {},
   "outputs": [],
   "source": [
    "# Nosso modelo impacta 2% das gravidez, considerando capitais.\n",
    "11736 / len(X_test)"
   ]
  },
  {
   "cell_type": "code",
   "execution_count": null,
   "metadata": {},
   "outputs": [],
   "source": [
    "preprocessor = pipeline.named_steps['preprocessor']\n",
    "\n",
    "# Get the feature names after preprocessing\n",
    "feature_names = preprocessor.get_feature_names_out()\n",
    "\n",
    "# Access the logistic regression classifier in the pipeline\n",
    "logistic_regression = pipeline.named_steps['classifier']\n",
    "\n",
    "# Get the weights (coefficients) of the logistic regression model\n",
    "weights = logistic_regression.coef_\n",
    "\n",
    "# Create a DataFrame to display the feature names and their corresponding weights\n",
    "feature_weights = pd.DataFrame(weights.T, columns=['Weight'], index=feature_names)\n",
    "\n",
    "# Print the feature names and their corresponding weights\n",
    "print(\"Features and their corresponding weights:\")\n",
    "print(feature_weights)"
   ]
  },
  {
   "cell_type": "code",
   "execution_count": null,
   "metadata": {},
   "outputs": [],
   "source": [
    "feature_weights[\"abs_weight\"] = abs(feature_weights[\"Weight\"])"
   ]
  },
  {
   "cell_type": "code",
   "execution_count": null,
   "metadata": {},
   "outputs": [],
   "source": [
    "feature_weights.sort_values(by=\"abs_weight\", ascending=False)"
   ]
  },
  {
   "cell_type": "code",
   "execution_count": null,
   "metadata": {},
   "outputs": [],
   "source": [
    "X_test[\"prematuro\"] = y_test\n",
    "X_test"
   ]
  },
  {
   "cell_type": "code",
   "execution_count": null,
   "metadata": {},
   "outputs": [],
   "source": [
    "X_test.groupby([\"def_gravidez\", \"prematuro\"]).count()"
   ]
  },
  {
   "cell_type": "code",
   "execution_count": null,
   "metadata": {},
   "outputs": [],
   "source": [
    "# Nosso modelo tem 13% de recall...\n",
    "recall = 5406/(5406 + 35495)\n",
    "recall"
   ]
  },
  {
   "cell_type": "code",
   "execution_count": null,
   "metadata": {},
   "outputs": [],
   "source": [
    "# ... e 46% de precisão\n",
    "precision = 5406 / (5406 + 6330)\n",
    "precision"
   ]
  },
  {
   "cell_type": "code",
   "execution_count": null,
   "metadata": {},
   "outputs": [],
   "source": [
    "n_premature_births = int(X_test[\"prematuro\"].mean() * len(births))"
   ]
  },
  {
   "cell_type": "code",
   "execution_count": null,
   "metadata": {},
   "outputs": [],
   "source": [
    "print(f\"Número de nascimentos prematuros: {n_premature_births}\")\n",
    "print(f\"Número de nascimentos prematuros corretamente detectados: {int(n_premature_births * recall)}\")\n",
    "print(f\"Número de nascimentos prematuros incorretamente detectados: {int((int(n_premature_births * recall) / precision) - int(n_premature_births * recall))}\")"
   ]
  },
  {
   "cell_type": "code",
   "execution_count": null,
   "metadata": {},
   "outputs": [],
   "source": []
  }
 ],
 "metadata": {
  "kernelspec": {
   "display_name": "mab-tutorials",
   "language": "python",
   "name": "python3"
  },
  "language_info": {
   "codemirror_mode": {
    "name": "ipython",
    "version": 3
   },
   "file_extension": ".py",
   "mimetype": "text/x-python",
   "name": "python",
   "nbconvert_exporter": "python",
   "pygments_lexer": "ipython3",
   "version": "3.7.16"
  },
  "orig_nbformat": 4
 },
 "nbformat": 4,
 "nbformat_minor": 2
}
